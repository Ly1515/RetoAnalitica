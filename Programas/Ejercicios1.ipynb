{
 "cells": [
  {
   "cell_type": "markdown",
   "id": "a7245cd1",
   "metadata": {},
   "source": [
    "# Ejercicios con Python:\n",
    "\n",
    "1.\n",
    "Escribir una función de Python que encuentre los números primos en los primeros N números naturales.\n",
    "N es el argumento de la función\n",
    "Llamar la función desde el código principal\n",
    "\n",
    "2.\n",
    "Escribir una función de Pyton que encuentre el producto cruz en vectores de 3 componentes.\n",
    "La función recibe dos listas (vectores)\n",
    "La función regresa un tercer vector (lista) con el resultado\n",
    "Llamar a la función desde el código principal\n",
    "\n",
    "3.\n",
    "Re-escribir el problema 2, pero ahora los vectores son leídos desde un archivo de texto."
   ]
  },
  {
   "cell_type": "code",
   "execution_count": 5,
   "id": "caf00a75",
   "metadata": {},
   "outputs": [],
   "source": [
    "import math\n",
    "def encontrarPrimo(n):\n",
    "    primos = []\n",
    "    for i in range(2, n+1):\n",
    "        isPrime = True\n",
    "        limit = sqrt(i)\n",
    "        for j in range(2, limit+1):\n",
    "            if i % j == 0:\n",
    "                isPrime = False\n",
    "                break\n",
    "        if isPrime:\n",
    "            primos.append(i)\n",
    "    return primos"
   ]
  },
  {
   "cell_type": "code",
   "execution_count": 6,
   "id": "ba3c6091",
   "metadata": {},
   "outputs": [
    {
     "name": "stdout",
     "output_type": "stream",
     "text": [
      "[2, 3, 5, 7, 11, 13, 17, 19, 23, 29, 31, 37, 41, 43, 47, 53, 59, 61, 67, 71, 73, 79, 83, 89, 97]\n"
     ]
    }
   ],
   "source": [
    "print(findPrimes(100))"
   ]
  },
  {
   "cell_type": "code",
   "execution_count": 7,
   "id": "2f2ab8ba",
   "metadata": {},
   "outputs": [],
   "source": [
    "def crossProductA(a,b):\n",
    "    product = [a[1] * b[2] - a[2]*b[1], a[2] * b[0] - a[0]*b[2], a[0] * b[1] - a[1]*b[0]]\n",
    "    return product"
   ]
  },
  {
   "cell_type": "code",
   "execution_count": 9,
   "id": "36ecbd67",
   "metadata": {},
   "outputs": [
    {
     "name": "stdout",
     "output_type": "stream",
     "text": [
      "[-1, 1, 0]\n"
     ]
    }
   ],
   "source": [
    "vectorA = [0,0,1]\n",
    "vectorB = [1,1,2]\n",
    "print(crossProductA(vectorA, vectorB))"
   ]
  },
  {
   "cell_type": "code",
   "execution_count": null,
   "id": "85f9d14a",
   "metadata": {},
   "outputs": [],
   "source": [
    "def crossProductA(a,b):\n",
    "    file = open(\"vectors.txt\", \"r\")\n",
    "    linea \n",
    "    return product"
   ]
  }
 ],
 "metadata": {
  "kernelspec": {
   "display_name": "Python 3 (ipykernel)",
   "language": "python",
   "name": "python3"
  },
  "language_info": {
   "codemirror_mode": {
    "name": "ipython",
    "version": 3
   },
   "file_extension": ".py",
   "mimetype": "text/x-python",
   "name": "python",
   "nbconvert_exporter": "python",
   "pygments_lexer": "ipython3",
   "version": "3.10.9"
  }
 },
 "nbformat": 4,
 "nbformat_minor": 5
}
