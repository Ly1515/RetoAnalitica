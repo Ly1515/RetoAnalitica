{
 "cells": [
  {
   "cell_type": "markdown",
   "id": "0625d656",
   "metadata": {},
   "source": [
    "# Carga de datos con Panda"
   ]
  },
  {
   "cell_type": "code",
   "execution_count": 1,
   "id": "84da6275",
   "metadata": {},
   "outputs": [
    {
     "name": "stdout",
     "output_type": "stream",
     "text": [
      "/Users/lymc/Desktop/STec_Analitica/RetoAnalitica/RetoAnalitica/Programas\n"
     ]
    }
   ],
   "source": [
    "import os\n",
    "print(os.getcwd())"
   ]
  },
  {
   "cell_type": "code",
   "execution_count": 2,
   "id": "0537fefe",
   "metadata": {},
   "outputs": [
    {
     "data": {
      "text/plain": [
       "'/Users/lymc/Desktop/STec_Analitica/RetoAnalitica/RetoAnalitica/Programas'"
      ]
     },
     "execution_count": 2,
     "metadata": {},
     "output_type": "execute_result"
    }
   ],
   "source": [
    "import pandas as pd\n",
    "import os\n",
    "os.getcwd()"
   ]
  },
  {
   "cell_type": "code",
   "execution_count": 3,
   "id": "09c162d8",
   "metadata": {
    "scrolled": true
   },
   "outputs": [],
   "source": [
    "df = pd.read_csv('avocado.csv')"
   ]
  },
  {
   "cell_type": "code",
   "execution_count": 4,
   "id": "9b0d6194",
   "metadata": {},
   "outputs": [
    {
     "data": {
      "text/html": [
       "<div>\n",
       "<style scoped>\n",
       "    .dataframe tbody tr th:only-of-type {\n",
       "        vertical-align: middle;\n",
       "    }\n",
       "\n",
       "    .dataframe tbody tr th {\n",
       "        vertical-align: top;\n",
       "    }\n",
       "\n",
       "    .dataframe thead th {\n",
       "        text-align: right;\n",
       "    }\n",
       "</style>\n",
       "<table border=\"1\" class=\"dataframe\">\n",
       "  <thead>\n",
       "    <tr style=\"text-align: right;\">\n",
       "      <th></th>\n",
       "      <th>Unnamed: 0</th>\n",
       "      <th>Date</th>\n",
       "      <th>AveragePrice</th>\n",
       "      <th>Total Volume</th>\n",
       "      <th>4046</th>\n",
       "      <th>4225</th>\n",
       "      <th>4770</th>\n",
       "      <th>Total Bags</th>\n",
       "      <th>Small Bags</th>\n",
       "      <th>Large Bags</th>\n",
       "      <th>XLarge Bags</th>\n",
       "      <th>type</th>\n",
       "      <th>year</th>\n",
       "      <th>region</th>\n",
       "    </tr>\n",
       "  </thead>\n",
       "  <tbody>\n",
       "    <tr>\n",
       "      <th>0</th>\n",
       "      <td>0</td>\n",
       "      <td>2015-12-27</td>\n",
       "      <td>1.33</td>\n",
       "      <td>64236.62</td>\n",
       "      <td>1036.74</td>\n",
       "      <td>54454.85</td>\n",
       "      <td>48.16</td>\n",
       "      <td>8696.87</td>\n",
       "      <td>8603.62</td>\n",
       "      <td>93.25</td>\n",
       "      <td>0.0</td>\n",
       "      <td>conventional</td>\n",
       "      <td>2015</td>\n",
       "      <td>Albany</td>\n",
       "    </tr>\n",
       "    <tr>\n",
       "      <th>1</th>\n",
       "      <td>1</td>\n",
       "      <td>2015-12-20</td>\n",
       "      <td>1.35</td>\n",
       "      <td>54876.98</td>\n",
       "      <td>674.28</td>\n",
       "      <td>44638.81</td>\n",
       "      <td>58.33</td>\n",
       "      <td>9505.56</td>\n",
       "      <td>9408.07</td>\n",
       "      <td>97.49</td>\n",
       "      <td>0.0</td>\n",
       "      <td>conventional</td>\n",
       "      <td>2015</td>\n",
       "      <td>Albany</td>\n",
       "    </tr>\n",
       "    <tr>\n",
       "      <th>2</th>\n",
       "      <td>2</td>\n",
       "      <td>2015-12-13</td>\n",
       "      <td>0.93</td>\n",
       "      <td>118220.22</td>\n",
       "      <td>794.70</td>\n",
       "      <td>109149.67</td>\n",
       "      <td>130.50</td>\n",
       "      <td>8145.35</td>\n",
       "      <td>8042.21</td>\n",
       "      <td>103.14</td>\n",
       "      <td>0.0</td>\n",
       "      <td>conventional</td>\n",
       "      <td>2015</td>\n",
       "      <td>Albany</td>\n",
       "    </tr>\n",
       "    <tr>\n",
       "      <th>3</th>\n",
       "      <td>3</td>\n",
       "      <td>2015-12-06</td>\n",
       "      <td>1.08</td>\n",
       "      <td>78992.15</td>\n",
       "      <td>1132.00</td>\n",
       "      <td>71976.41</td>\n",
       "      <td>72.58</td>\n",
       "      <td>5811.16</td>\n",
       "      <td>5677.40</td>\n",
       "      <td>133.76</td>\n",
       "      <td>0.0</td>\n",
       "      <td>conventional</td>\n",
       "      <td>2015</td>\n",
       "      <td>Albany</td>\n",
       "    </tr>\n",
       "    <tr>\n",
       "      <th>4</th>\n",
       "      <td>4</td>\n",
       "      <td>2015-11-29</td>\n",
       "      <td>1.28</td>\n",
       "      <td>51039.60</td>\n",
       "      <td>941.48</td>\n",
       "      <td>43838.39</td>\n",
       "      <td>75.78</td>\n",
       "      <td>6183.95</td>\n",
       "      <td>5986.26</td>\n",
       "      <td>197.69</td>\n",
       "      <td>0.0</td>\n",
       "      <td>conventional</td>\n",
       "      <td>2015</td>\n",
       "      <td>Albany</td>\n",
       "    </tr>\n",
       "  </tbody>\n",
       "</table>\n",
       "</div>"
      ],
      "text/plain": [
       "   Unnamed: 0        Date  AveragePrice  Total Volume     4046       4225  \\\n",
       "0           0  2015-12-27          1.33      64236.62  1036.74   54454.85   \n",
       "1           1  2015-12-20          1.35      54876.98   674.28   44638.81   \n",
       "2           2  2015-12-13          0.93     118220.22   794.70  109149.67   \n",
       "3           3  2015-12-06          1.08      78992.15  1132.00   71976.41   \n",
       "4           4  2015-11-29          1.28      51039.60   941.48   43838.39   \n",
       "\n",
       "     4770  Total Bags  Small Bags  Large Bags  XLarge Bags          type  \\\n",
       "0   48.16     8696.87     8603.62       93.25          0.0  conventional   \n",
       "1   58.33     9505.56     9408.07       97.49          0.0  conventional   \n",
       "2  130.50     8145.35     8042.21      103.14          0.0  conventional   \n",
       "3   72.58     5811.16     5677.40      133.76          0.0  conventional   \n",
       "4   75.78     6183.95     5986.26      197.69          0.0  conventional   \n",
       "\n",
       "   year  region  \n",
       "0  2015  Albany  \n",
       "1  2015  Albany  \n",
       "2  2015  Albany  \n",
       "3  2015  Albany  \n",
       "4  2015  Albany  "
      ]
     },
     "execution_count": 4,
     "metadata": {},
     "output_type": "execute_result"
    }
   ],
   "source": [
    "df.head()"
   ]
  },
  {
   "cell_type": "markdown",
   "id": "16ea893c",
   "metadata": {},
   "source": [
    "Verificar la cantidad de datos"
   ]
  },
  {
   "cell_type": "code",
   "execution_count": 5,
   "id": "b17028df",
   "metadata": {},
   "outputs": [
    {
     "data": {
      "text/html": [
       "<div>\n",
       "<style scoped>\n",
       "    .dataframe tbody tr th:only-of-type {\n",
       "        vertical-align: middle;\n",
       "    }\n",
       "\n",
       "    .dataframe tbody tr th {\n",
       "        vertical-align: top;\n",
       "    }\n",
       "\n",
       "    .dataframe thead th {\n",
       "        text-align: right;\n",
       "    }\n",
       "</style>\n",
       "<table border=\"1\" class=\"dataframe\">\n",
       "  <thead>\n",
       "    <tr style=\"text-align: right;\">\n",
       "      <th></th>\n",
       "      <th>count</th>\n",
       "      <th>mean</th>\n",
       "      <th>std</th>\n",
       "      <th>min</th>\n",
       "      <th>25%</th>\n",
       "      <th>50%</th>\n",
       "      <th>75%</th>\n",
       "      <th>max</th>\n",
       "    </tr>\n",
       "  </thead>\n",
       "  <tbody>\n",
       "    <tr>\n",
       "      <th>Unnamed: 0</th>\n",
       "      <td>18249.0</td>\n",
       "      <td>24.232232</td>\n",
       "      <td>1.548104e+01</td>\n",
       "      <td>0.00</td>\n",
       "      <td>10.00</td>\n",
       "      <td>24.00</td>\n",
       "      <td>38.00</td>\n",
       "      <td>52.00</td>\n",
       "    </tr>\n",
       "    <tr>\n",
       "      <th>AveragePrice</th>\n",
       "      <td>18249.0</td>\n",
       "      <td>1.405978</td>\n",
       "      <td>4.026766e-01</td>\n",
       "      <td>0.44</td>\n",
       "      <td>1.10</td>\n",
       "      <td>1.37</td>\n",
       "      <td>1.66</td>\n",
       "      <td>3.25</td>\n",
       "    </tr>\n",
       "    <tr>\n",
       "      <th>Total Volume</th>\n",
       "      <td>18249.0</td>\n",
       "      <td>850644.013009</td>\n",
       "      <td>3.453545e+06</td>\n",
       "      <td>84.56</td>\n",
       "      <td>10838.58</td>\n",
       "      <td>107376.76</td>\n",
       "      <td>432962.29</td>\n",
       "      <td>62505646.52</td>\n",
       "    </tr>\n",
       "    <tr>\n",
       "      <th>4046</th>\n",
       "      <td>18249.0</td>\n",
       "      <td>293008.424531</td>\n",
       "      <td>1.264989e+06</td>\n",
       "      <td>0.00</td>\n",
       "      <td>854.07</td>\n",
       "      <td>8645.30</td>\n",
       "      <td>111020.20</td>\n",
       "      <td>22743616.17</td>\n",
       "    </tr>\n",
       "    <tr>\n",
       "      <th>4225</th>\n",
       "      <td>18249.0</td>\n",
       "      <td>295154.568356</td>\n",
       "      <td>1.204120e+06</td>\n",
       "      <td>0.00</td>\n",
       "      <td>3008.78</td>\n",
       "      <td>29061.02</td>\n",
       "      <td>150206.86</td>\n",
       "      <td>20470572.61</td>\n",
       "    </tr>\n",
       "    <tr>\n",
       "      <th>4770</th>\n",
       "      <td>18249.0</td>\n",
       "      <td>22839.735993</td>\n",
       "      <td>1.074641e+05</td>\n",
       "      <td>0.00</td>\n",
       "      <td>0.00</td>\n",
       "      <td>184.99</td>\n",
       "      <td>6243.42</td>\n",
       "      <td>2546439.11</td>\n",
       "    </tr>\n",
       "    <tr>\n",
       "      <th>Total Bags</th>\n",
       "      <td>18249.0</td>\n",
       "      <td>239639.202060</td>\n",
       "      <td>9.862424e+05</td>\n",
       "      <td>0.00</td>\n",
       "      <td>5088.64</td>\n",
       "      <td>39743.83</td>\n",
       "      <td>110783.37</td>\n",
       "      <td>19373134.37</td>\n",
       "    </tr>\n",
       "    <tr>\n",
       "      <th>Small Bags</th>\n",
       "      <td>18249.0</td>\n",
       "      <td>182194.686696</td>\n",
       "      <td>7.461785e+05</td>\n",
       "      <td>0.00</td>\n",
       "      <td>2849.42</td>\n",
       "      <td>26362.82</td>\n",
       "      <td>83337.67</td>\n",
       "      <td>13384586.80</td>\n",
       "    </tr>\n",
       "    <tr>\n",
       "      <th>Large Bags</th>\n",
       "      <td>18249.0</td>\n",
       "      <td>54338.088145</td>\n",
       "      <td>2.439660e+05</td>\n",
       "      <td>0.00</td>\n",
       "      <td>127.47</td>\n",
       "      <td>2647.71</td>\n",
       "      <td>22029.25</td>\n",
       "      <td>5719096.61</td>\n",
       "    </tr>\n",
       "    <tr>\n",
       "      <th>XLarge Bags</th>\n",
       "      <td>18249.0</td>\n",
       "      <td>3106.426507</td>\n",
       "      <td>1.769289e+04</td>\n",
       "      <td>0.00</td>\n",
       "      <td>0.00</td>\n",
       "      <td>0.00</td>\n",
       "      <td>132.50</td>\n",
       "      <td>551693.65</td>\n",
       "    </tr>\n",
       "    <tr>\n",
       "      <th>year</th>\n",
       "      <td>18249.0</td>\n",
       "      <td>2016.147899</td>\n",
       "      <td>9.399385e-01</td>\n",
       "      <td>2015.00</td>\n",
       "      <td>2015.00</td>\n",
       "      <td>2016.00</td>\n",
       "      <td>2017.00</td>\n",
       "      <td>2018.00</td>\n",
       "    </tr>\n",
       "  </tbody>\n",
       "</table>\n",
       "</div>"
      ],
      "text/plain": [
       "                count           mean           std      min       25%  \\\n",
       "Unnamed: 0    18249.0      24.232232  1.548104e+01     0.00     10.00   \n",
       "AveragePrice  18249.0       1.405978  4.026766e-01     0.44      1.10   \n",
       "Total Volume  18249.0  850644.013009  3.453545e+06    84.56  10838.58   \n",
       "4046          18249.0  293008.424531  1.264989e+06     0.00    854.07   \n",
       "4225          18249.0  295154.568356  1.204120e+06     0.00   3008.78   \n",
       "4770          18249.0   22839.735993  1.074641e+05     0.00      0.00   \n",
       "Total Bags    18249.0  239639.202060  9.862424e+05     0.00   5088.64   \n",
       "Small Bags    18249.0  182194.686696  7.461785e+05     0.00   2849.42   \n",
       "Large Bags    18249.0   54338.088145  2.439660e+05     0.00    127.47   \n",
       "XLarge Bags   18249.0    3106.426507  1.769289e+04     0.00      0.00   \n",
       "year          18249.0    2016.147899  9.399385e-01  2015.00   2015.00   \n",
       "\n",
       "                    50%        75%          max  \n",
       "Unnamed: 0        24.00      38.00        52.00  \n",
       "AveragePrice       1.37       1.66         3.25  \n",
       "Total Volume  107376.76  432962.29  62505646.52  \n",
       "4046            8645.30  111020.20  22743616.17  \n",
       "4225           29061.02  150206.86  20470572.61  \n",
       "4770             184.99    6243.42   2546439.11  \n",
       "Total Bags     39743.83  110783.37  19373134.37  \n",
       "Small Bags     26362.82   83337.67  13384586.80  \n",
       "Large Bags      2647.71   22029.25   5719096.61  \n",
       "XLarge Bags        0.00     132.50    551693.65  \n",
       "year            2016.00    2017.00      2018.00  "
      ]
     },
     "execution_count": 5,
     "metadata": {},
     "output_type": "execute_result"
    }
   ],
   "source": [
    "df.describe().transpose()"
   ]
  },
  {
   "cell_type": "code",
   "execution_count": 6,
   "id": "60fc2e8d",
   "metadata": {},
   "outputs": [
    {
     "data": {
      "text/plain": [
       "0         8696.87\n",
       "1         9505.56\n",
       "2         8145.35\n",
       "3         5811.16\n",
       "4         6183.95\n",
       "           ...   \n",
       "18244    13498.67\n",
       "18245     9264.84\n",
       "18246     9394.11\n",
       "18247    10969.54\n",
       "18248    12014.15\n",
       "Name: Total Bags, Length: 18249, dtype: float64"
      ]
     },
     "execution_count": 6,
     "metadata": {},
     "output_type": "execute_result"
    }
   ],
   "source": [
    "df['Total Bags']"
   ]
  },
  {
   "cell_type": "code",
   "execution_count": 7,
   "id": "d739be7d",
   "metadata": {},
   "outputs": [
    {
     "data": {
      "text/plain": [
       "0         8603.62\n",
       "1         9408.07\n",
       "2         8042.21\n",
       "3         5677.40\n",
       "4         5986.26\n",
       "           ...   \n",
       "18244    13066.82\n",
       "18245     8940.04\n",
       "18246     9351.80\n",
       "18247    10919.54\n",
       "18248    11988.14\n",
       "Name: Small Bags, Length: 18249, dtype: float64"
      ]
     },
     "execution_count": 7,
     "metadata": {},
     "output_type": "execute_result"
    }
   ],
   "source": [
    "df['Small Bags']"
   ]
  },
  {
   "cell_type": "code",
   "execution_count": 8,
   "id": "41f289a5",
   "metadata": {},
   "outputs": [
    {
     "data": {
      "text/plain": [
       "0         93.25\n",
       "1         97.49\n",
       "2        103.14\n",
       "3        133.76\n",
       "4        197.69\n",
       "          ...  \n",
       "18244    431.85\n",
       "18245    324.80\n",
       "18246     42.31\n",
       "18247     50.00\n",
       "18248     26.01\n",
       "Name: Large Bags, Length: 18249, dtype: float64"
      ]
     },
     "execution_count": 8,
     "metadata": {},
     "output_type": "execute_result"
    }
   ],
   "source": [
    "df['Large Bags']"
   ]
  },
  {
   "cell_type": "code",
   "execution_count": 9,
   "id": "6e6294c4",
   "metadata": {},
   "outputs": [
    {
     "data": {
      "text/plain": [
       "0        0.0\n",
       "1        0.0\n",
       "2        0.0\n",
       "3        0.0\n",
       "4        0.0\n",
       "        ... \n",
       "18244    0.0\n",
       "18245    0.0\n",
       "18246    0.0\n",
       "18247    0.0\n",
       "18248    0.0\n",
       "Name: XLarge Bags, Length: 18249, dtype: float64"
      ]
     },
     "execution_count": 9,
     "metadata": {},
     "output_type": "execute_result"
    }
   ],
   "source": [
    "df['XLarge Bags']"
   ]
  },
  {
   "cell_type": "code",
   "execution_count": 10,
   "id": "dbbec36e",
   "metadata": {},
   "outputs": [
    {
     "data": {
      "image/png": "[encoded data removed]",
      "text/plain": [
       "<Figure size 1000x700 with 1 Axes>"
      ]
     },
     "metadata": {},
     "output_type": "display_data"
    }
   ],
   "source": [
    "import matplotlib.pyplot as plt\n",
    "import numpy as np\n",
    " \n",
    "col1 = df['Total Bags']\n",
    "col2 = df['Small Bags']\n",
    "col3 = df['Large Bags']\n",
    "col4 = df['XLarge Bags']\n",
    "\n",
    "myData =[col1,col2,col3,col4]\n",
    "\n",
    "fig = plt.figure(figsize =(10, 7))\n",
    "\n",
    "plt.boxplot(myData)\n",
    "\n",
    "plt.show()"
   ]
  },
  {
   "cell_type": "code",
   "execution_count": 11,
   "id": "c35a790a",
   "metadata": {},
   "outputs": [
    {
     "data": {
      "text/plain": [
       "0         64236.62\n",
       "1         54876.98\n",
       "2        118220.22\n",
       "3         78992.15\n",
       "4         51039.60\n",
       "           ...    \n",
       "18244     17074.83\n",
       "18245     13888.04\n",
       "18246     13766.76\n",
       "18247     16205.22\n",
       "18248     17489.58\n",
       "Name: Total Volume, Length: 18249, dtype: float64"
      ]
     },
     "execution_count": 11,
     "metadata": {},
     "output_type": "execute_result"
    }
   ],
   "source": [
    "df['Total Volume']"
   ]
  },
  {
   "cell_type": "code",
   "execution_count": 12,
   "id": "18f61ef7",
   "metadata": {},
   "outputs": [
    {
     "data": {
      "text/plain": [
       "0        1036.74\n",
       "1         674.28\n",
       "2         794.70\n",
       "3        1132.00\n",
       "4         941.48\n",
       "          ...   \n",
       "18244    2046.96\n",
       "18245    1191.70\n",
       "18246    1191.92\n",
       "18247    1527.63\n",
       "18248    2894.77\n",
       "Name: 4046, Length: 18249, dtype: float64"
      ]
     },
     "execution_count": 12,
     "metadata": {},
     "output_type": "execute_result"
    }
   ],
   "source": [
    "df['4046']"
   ]
  },
  {
   "cell_type": "code",
   "execution_count": 13,
   "id": "666a79bc",
   "metadata": {},
   "outputs": [
    {
     "data": {
      "text/plain": [
       "0         54454.85\n",
       "1         44638.81\n",
       "2        109149.67\n",
       "3         71976.41\n",
       "4         43838.39\n",
       "           ...    \n",
       "18244      1529.20\n",
       "18245      3431.50\n",
       "18246      2452.79\n",
       "18247      2981.04\n",
       "18248      2356.13\n",
       "Name: 4225, Length: 18249, dtype: float64"
      ]
     },
     "execution_count": 13,
     "metadata": {},
     "output_type": "execute_result"
    }
   ],
   "source": [
    "df['4225']"
   ]
  },
  {
   "cell_type": "code",
   "execution_count": 14,
   "id": "3634a66e",
   "metadata": {},
   "outputs": [
    {
     "data": {
      "text/plain": [
       "0         48.16\n",
       "1         58.33\n",
       "2        130.50\n",
       "3         72.58\n",
       "4         75.78\n",
       "          ...  \n",
       "18244      0.00\n",
       "18245      0.00\n",
       "18246    727.94\n",
       "18247    727.01\n",
       "18248    224.53\n",
       "Name: 4770, Length: 18249, dtype: float64"
      ]
     },
     "execution_count": 14,
     "metadata": {},
     "output_type": "execute_result"
    }
   ],
   "source": [
    "df['4770']"
   ]
  },
  {
   "cell_type": "code",
   "execution_count": 15,
   "id": "8926277f",
   "metadata": {},
   "outputs": [
    {
     "data": {
      "image/png": "[encoded data removed]",
      "text/plain": [
       "<Figure size 1000x700 with 1 Axes>"
      ]
     },
     "metadata": {},
     "output_type": "display_data"
    }
   ],
   "source": [
    "import matplotlib.pyplot as plt\n",
    "import numpy as np\n",
    " \n",
    "col1 = df['Total Volume']\n",
    "col2 = df['4046']\n",
    "col3 = df['4225']\n",
    "col4 = df['4770']\n",
    "\n",
    "myData =[col1,col2,col3,col4]\n",
    "\n",
    "fig = plt.figure(figsize =(10, 7))\n",
    "\n",
    "plt.boxplot(myData)\n",
    "\n",
    "plt.show()"
   ]
  },
  {
   "cell_type": "code",
   "execution_count": 16,
   "id": "09e82e09",
   "metadata": {},
   "outputs": [
    {
     "data": {
      "text/plain": [
       "Unnamed: 0                 0\n",
       "Date              2015-01-04\n",
       "AveragePrice            0.44\n",
       "Total Volume           84.56\n",
       "4046                     0.0\n",
       "4225                     0.0\n",
       "4770                     0.0\n",
       "Total Bags               0.0\n",
       "Small Bags               0.0\n",
       "Large Bags               0.0\n",
       "XLarge Bags              0.0\n",
       "type            conventional\n",
       "year                    2015\n",
       "region                Albany\n",
       "dtype: object"
      ]
     },
     "execution_count": 16,
     "metadata": {},
     "output_type": "execute_result"
    }
   ],
   "source": [
    "df.sort_values(by = 'region').min()"
   ]
  },
  {
   "cell_type": "code",
   "execution_count": 17,
   "id": "2da2a7e1",
   "metadata": {
    "scrolled": true
   },
   "outputs": [
    {
     "data": {
      "text/plain": [
       "Unnamed: 0                    52\n",
       "Date                  2018-03-25\n",
       "AveragePrice                3.25\n",
       "Total Volume         62505646.52\n",
       "4046                 22743616.17\n",
       "4225                 20470572.61\n",
       "4770                  2546439.11\n",
       "Total Bags           19373134.37\n",
       "Small Bags            13384586.8\n",
       "Large Bags            5719096.61\n",
       "XLarge Bags            551693.65\n",
       "type                     organic\n",
       "year                        2018\n",
       "region          WestTexNewMexico\n",
       "dtype: object"
      ]
     },
     "execution_count": 17,
     "metadata": {},
     "output_type": "execute_result"
    }
   ],
   "source": [
    "df.sort_values(by = 'region').max()"
   ]
  },
  {
   "cell_type": "code",
   "execution_count": 18,
   "id": "3014efac",
   "metadata": {},
   "outputs": [
    {
     "data": {
      "text/html": [
       "<div>\n",
       "<style scoped>\n",
       "    .dataframe tbody tr th:only-of-type {\n",
       "        vertical-align: middle;\n",
       "    }\n",
       "\n",
       "    .dataframe tbody tr th {\n",
       "        vertical-align: top;\n",
       "    }\n",
       "\n",
       "    .dataframe thead th {\n",
       "        text-align: right;\n",
       "    }\n",
       "</style>\n",
       "<table border=\"1\" class=\"dataframe\">\n",
       "  <thead>\n",
       "    <tr style=\"text-align: right;\">\n",
       "      <th></th>\n",
       "      <th>Unnamed: 0</th>\n",
       "      <th>Date</th>\n",
       "      <th>AveragePrice</th>\n",
       "      <th>Total Volume</th>\n",
       "      <th>4046</th>\n",
       "      <th>4225</th>\n",
       "      <th>4770</th>\n",
       "      <th>Total Bags</th>\n",
       "      <th>Small Bags</th>\n",
       "      <th>Large Bags</th>\n",
       "      <th>XLarge Bags</th>\n",
       "      <th>type</th>\n",
       "      <th>year</th>\n",
       "      <th>region</th>\n",
       "    </tr>\n",
       "  </thead>\n",
       "  <tbody>\n",
       "    <tr>\n",
       "      <th>0</th>\n",
       "      <td>0</td>\n",
       "      <td>2015-12-27</td>\n",
       "      <td>1.33</td>\n",
       "      <td>64236.62</td>\n",
       "      <td>1036.74</td>\n",
       "      <td>54454.85</td>\n",
       "      <td>48.16</td>\n",
       "      <td>8696.87</td>\n",
       "      <td>8603.62</td>\n",
       "      <td>93.25</td>\n",
       "      <td>0.00</td>\n",
       "      <td>conventional</td>\n",
       "      <td>2015</td>\n",
       "      <td>Albany</td>\n",
       "    </tr>\n",
       "    <tr>\n",
       "      <th>13649</th>\n",
       "      <td>0</td>\n",
       "      <td>2016-12-25</td>\n",
       "      <td>1.85</td>\n",
       "      <td>8657.87</td>\n",
       "      <td>2182.46</td>\n",
       "      <td>3344.01</td>\n",
       "      <td>0.00</td>\n",
       "      <td>3131.40</td>\n",
       "      <td>3116.68</td>\n",
       "      <td>14.72</td>\n",
       "      <td>0.00</td>\n",
       "      <td>organic</td>\n",
       "      <td>2016</td>\n",
       "      <td>PhoenixTucson</td>\n",
       "    </tr>\n",
       "    <tr>\n",
       "      <th>1768</th>\n",
       "      <td>0</td>\n",
       "      <td>2015-12-27</td>\n",
       "      <td>1.25</td>\n",
       "      <td>73109.90</td>\n",
       "      <td>1241.48</td>\n",
       "      <td>45856.11</td>\n",
       "      <td>951.32</td>\n",
       "      <td>25060.99</td>\n",
       "      <td>17512.17</td>\n",
       "      <td>7392.15</td>\n",
       "      <td>156.67</td>\n",
       "      <td>conventional</td>\n",
       "      <td>2015</td>\n",
       "      <td>Pittsburgh</td>\n",
       "    </tr>\n",
       "    <tr>\n",
       "      <th>13597</th>\n",
       "      <td>0</td>\n",
       "      <td>2016-12-25</td>\n",
       "      <td>1.90</td>\n",
       "      <td>11376.97</td>\n",
       "      <td>981.62</td>\n",
       "      <td>3177.51</td>\n",
       "      <td>14.99</td>\n",
       "      <td>7202.85</td>\n",
       "      <td>7053.99</td>\n",
       "      <td>148.86</td>\n",
       "      <td>0.00</td>\n",
       "      <td>organic</td>\n",
       "      <td>2016</td>\n",
       "      <td>Philadelphia</td>\n",
       "    </tr>\n",
       "    <tr>\n",
       "      <th>13545</th>\n",
       "      <td>0</td>\n",
       "      <td>2016-12-25</td>\n",
       "      <td>1.27</td>\n",
       "      <td>5601.65</td>\n",
       "      <td>475.04</td>\n",
       "      <td>37.97</td>\n",
       "      <td>0.00</td>\n",
       "      <td>5088.64</td>\n",
       "      <td>2863.33</td>\n",
       "      <td>2225.31</td>\n",
       "      <td>0.00</td>\n",
       "      <td>organic</td>\n",
       "      <td>2016</td>\n",
       "      <td>Orlando</td>\n",
       "    </tr>\n",
       "    <tr>\n",
       "      <th>...</th>\n",
       "      <td>...</td>\n",
       "      <td>...</td>\n",
       "      <td>...</td>\n",
       "      <td>...</td>\n",
       "      <td>...</td>\n",
       "      <td>...</td>\n",
       "      <td>...</td>\n",
       "      <td>...</td>\n",
       "      <td>...</td>\n",
       "      <td>...</td>\n",
       "      <td>...</td>\n",
       "      <td>...</td>\n",
       "      <td>...</td>\n",
       "      <td>...</td>\n",
       "    </tr>\n",
       "    <tr>\n",
       "      <th>16277</th>\n",
       "      <td>52</td>\n",
       "      <td>2017-01-01</td>\n",
       "      <td>2.06</td>\n",
       "      <td>39260.55</td>\n",
       "      <td>6071.70</td>\n",
       "      <td>20105.65</td>\n",
       "      <td>1025.49</td>\n",
       "      <td>12057.71</td>\n",
       "      <td>11934.77</td>\n",
       "      <td>122.94</td>\n",
       "      <td>0.00</td>\n",
       "      <td>organic</td>\n",
       "      <td>2017</td>\n",
       "      <td>NewYork</td>\n",
       "    </tr>\n",
       "    <tr>\n",
       "      <th>7258</th>\n",
       "      <td>52</td>\n",
       "      <td>2017-01-01</td>\n",
       "      <td>1.11</td>\n",
       "      <td>476239.03</td>\n",
       "      <td>20667.36</td>\n",
       "      <td>414792.25</td>\n",
       "      <td>3313.10</td>\n",
       "      <td>37466.32</td>\n",
       "      <td>37466.32</td>\n",
       "      <td>0.00</td>\n",
       "      <td>0.00</td>\n",
       "      <td>conventional</td>\n",
       "      <td>2017</td>\n",
       "      <td>NorthernNewEngland</td>\n",
       "    </tr>\n",
       "    <tr>\n",
       "      <th>16330</th>\n",
       "      <td>52</td>\n",
       "      <td>2017-01-01</td>\n",
       "      <td>2.00</td>\n",
       "      <td>115256.09</td>\n",
       "      <td>9132.13</td>\n",
       "      <td>36276.39</td>\n",
       "      <td>923.53</td>\n",
       "      <td>68924.04</td>\n",
       "      <td>65447.53</td>\n",
       "      <td>3476.51</td>\n",
       "      <td>0.00</td>\n",
       "      <td>organic</td>\n",
       "      <td>2017</td>\n",
       "      <td>Northeast</td>\n",
       "    </tr>\n",
       "    <tr>\n",
       "      <th>5721</th>\n",
       "      <td>52</td>\n",
       "      <td>2017-01-01</td>\n",
       "      <td>0.93</td>\n",
       "      <td>547565.88</td>\n",
       "      <td>224073.54</td>\n",
       "      <td>118926.37</td>\n",
       "      <td>337.48</td>\n",
       "      <td>204228.49</td>\n",
       "      <td>111599.58</td>\n",
       "      <td>92628.91</td>\n",
       "      <td>0.00</td>\n",
       "      <td>conventional</td>\n",
       "      <td>2017</td>\n",
       "      <td>Atlanta</td>\n",
       "    </tr>\n",
       "    <tr>\n",
       "      <th>7735</th>\n",
       "      <td>52</td>\n",
       "      <td>2017-01-01</td>\n",
       "      <td>0.97</td>\n",
       "      <td>142347.90</td>\n",
       "      <td>43011.78</td>\n",
       "      <td>43260.01</td>\n",
       "      <td>125.37</td>\n",
       "      <td>55950.74</td>\n",
       "      <td>55319.62</td>\n",
       "      <td>535.56</td>\n",
       "      <td>95.56</td>\n",
       "      <td>conventional</td>\n",
       "      <td>2017</td>\n",
       "      <td>Roanoke</td>\n",
       "    </tr>\n",
       "  </tbody>\n",
       "</table>\n",
       "<p>18249 rows × 14 columns</p>\n",
       "</div>"
      ],
      "text/plain": [
       "       Unnamed: 0        Date  AveragePrice  Total Volume       4046  \\\n",
       "0               0  2015-12-27          1.33      64236.62    1036.74   \n",
       "13649           0  2016-12-25          1.85       8657.87    2182.46   \n",
       "1768            0  2015-12-27          1.25      73109.90    1241.48   \n",
       "13597           0  2016-12-25          1.90      11376.97     981.62   \n",
       "13545           0  2016-12-25          1.27       5601.65     475.04   \n",
       "...           ...         ...           ...           ...        ...   \n",
       "16277          52  2017-01-01          2.06      39260.55    6071.70   \n",
       "7258           52  2017-01-01          1.11     476239.03   20667.36   \n",
       "16330          52  2017-01-01          2.00     115256.09    9132.13   \n",
       "5721           52  2017-01-01          0.93     547565.88  224073.54   \n",
       "7735           52  2017-01-01          0.97     142347.90   43011.78   \n",
       "\n",
       "            4225     4770  Total Bags  Small Bags  Large Bags  XLarge Bags  \\\n",
       "0       54454.85    48.16     8696.87     8603.62       93.25         0.00   \n",
       "13649    3344.01     0.00     3131.40     3116.68       14.72         0.00   \n",
       "1768    45856.11   951.32    25060.99    17512.17     7392.15       156.67   \n",
       "13597    3177.51    14.99     7202.85     7053.99      148.86         0.00   \n",
       "13545      37.97     0.00     5088.64     2863.33     2225.31         0.00   \n",
       "...          ...      ...         ...         ...         ...          ...   \n",
       "16277   20105.65  1025.49    12057.71    11934.77      122.94         0.00   \n",
       "7258   414792.25  3313.10    37466.32    37466.32        0.00         0.00   \n",
       "16330   36276.39   923.53    68924.04    65447.53     3476.51         0.00   \n",
       "5721   118926.37   337.48   204228.49   111599.58    92628.91         0.00   \n",
       "7735    43260.01   125.37    55950.74    55319.62      535.56        95.56   \n",
       "\n",
       "               type  year              region  \n",
       "0      conventional  2015              Albany  \n",
       "13649       organic  2016       PhoenixTucson  \n",
       "1768   conventional  2015          Pittsburgh  \n",
       "13597       organic  2016        Philadelphia  \n",
       "13545       organic  2016             Orlando  \n",
       "...             ...   ...                 ...  \n",
       "16277       organic  2017             NewYork  \n",
       "7258   conventional  2017  NorthernNewEngland  \n",
       "16330       organic  2017           Northeast  \n",
       "5721   conventional  2017             Atlanta  \n",
       "7735   conventional  2017             Roanoke  \n",
       "\n",
       "[18249 rows x 14 columns]"
      ]
     },
     "execution_count": 18,
     "metadata": {},
     "output_type": "execute_result"
    }
   ],
   "source": [
    "df.sort_values(by = 'Unnamed: 0')"
   ]
  },
  {
   "cell_type": "markdown",
   "id": "6a5597fd",
   "metadata": {},
   "source": [
    "# Análisis del csv\n",
    "\n",
    "Después de realizar un análisis al csv modificados los datos, logre destacar que el tamaño de las bolsas de aguacate predominan las small y que no existen las tamaño XLarge. Igualmente podemos observar que los números 4046,4225 y 4770 nos indican el tamaño del aguacate y en general todos los datos ya que cada uno es un tipo distinto de aguacate. Finalmente otro aspecto que observe es que el estado que cuenta con menos aguacates o muy pocos es Albany con un Total Volume de 84.56 y el estado que cuenta con más es WestTexNewMexico con un Total Volume 62505646.52.\n",
    "\n",
    "Las variables se significan: \n",
    " \n",
    " · El precio a que se vende y el volumen total de aguacates \n",
    "     - AveragePrice              \n",
    "     - Total Volume         \n",
    "\n",
    " · Tamaño/calibre/precio del aguacate \n",
    "     - 4046                \n",
    "     - 4225                 \n",
    "     - 4770      \n",
    " \n",
    " · El tamaño y el total de las bolsas de aguacates         \n",
    "     - Total Bags          \n",
    "     - Small Bags            \n",
    "     - Large Bags            \n",
    "     - XLarge Bags            \n",
    "\n",
    " · Es el tipo de aguacate ejemplo orgánico o comercial \n",
    "     - type                     \n",
    "\n",
    " · El año y fecha que se registro\n",
    "     - year                    \n",
    "     - Date                 \n",
    "\n",
    " · Región donde se encuentra \n",
    "     - región         \n",
    "\n",
    "Referencia:\n",
    " · Catálogo de pegatinas de fruta › Lista de códigos. (s. f.). Clonet. https://colnect.com/es/fruit_stickers/plu_codes\n",
    " · Avocado Oil de México S. de R.L. (s. f.). AVO-FRESCO. Avoolio. https://avoolio.mx/wp-content/uploads/2020/08/AVO-FRESCO.pdf\n",
    " \n",
    "\n"
   ]
  },
  {
   "cell_type": "code",
   "execution_count": null,
   "id": "b8b59bc5",
   "metadata": {},
   "outputs": [],
   "source": []
  },
  {
   "cell_type": "code",
   "execution_count": null,
   "id": "60c95b10",
   "metadata": {},
   "outputs": [],
   "source": []
  }
 ],
 "metadata": {
  "kernelspec": {
   "display_name": "Python 3 (ipykernel)",
   "language": "python",
   "name": "python3"
  },
  "language_info": {
   "codemirror_mode": {
    "name": "ipython",
    "version": 3
   },
   "file_extension": ".py",
   "mimetype": "text/x-python",
   "name": "python",
   "nbconvert_exporter": "python",
   "pygments_lexer": "ipython3",
   "version": "3.10.9"
  }
 },
 "nbformat": 4,
 "nbformat_minor": 5
}
